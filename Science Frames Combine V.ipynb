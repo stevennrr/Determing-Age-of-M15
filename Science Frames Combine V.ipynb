{
 "cells": [
  {
   "cell_type": "code",
   "execution_count": 1,
   "id": "efacc787",
   "metadata": {},
   "outputs": [],
   "source": [
    "#Import relevant libraries\n",
    "import astropy\n",
    "import numpy as np\n",
    "import ccdproc\n",
    "import os\n",
    "import glob\n",
    "import matplotlib.pyplot as plt\n",
    "from astropy.nddata import CCDData\n",
    "import scipy"
   ]
  },
  {
   "cell_type": "code",
   "execution_count": 3,
   "id": "9aa1d1f3",
   "metadata": {},
   "outputs": [
    {
     "name": "stdout",
     "output_type": "stream",
     "text": [
      "INFO: using the unit adu passed to the FITS reader instead of the unit adu in the FITS file. [astropy.nddata.ccddata]\n",
      "INFO: using the unit adu passed to the FITS reader instead of the unit adu in the FITS file. [astropy.nddata.ccddata]\n",
      "[[  0.           0.           0.         ... 338.05138663 336.58027992\n",
      "  341.63559237]\n",
      " [  0.           0.           0.         ... 342.38787864 334.35753786\n",
      "  322.54190065]\n",
      " [  0.           0.           0.         ... 336.79291029 344.06118694\n",
      "  325.97107996]\n",
      " ...\n",
      " [  0.           0.           0.         ... 327.65617151 324.40086004\n",
      "  312.45668942]\n",
      " [  0.           0.           0.         ...   0.           0.\n",
      "    0.        ]\n",
      " [  0.           0.           0.         ...   0.           0.\n",
      "    0.        ]] adu [[  0.           0.           0.         ... 329.99119709 329.84810746\n",
      "  324.23343113]\n",
      " [  0.           0.           0.         ... 331.00511896 327.19895686\n",
      "  322.2036399 ]\n",
      " [  0.           0.           0.         ... 327.14127874 319.14059674\n",
      "  320.38394461]\n",
      " ...\n",
      " [  0.           0.           0.         ...   0.           0.\n",
      "    0.        ]\n",
      " [  0.           0.           0.         ...   0.           0.\n",
      "    0.        ]\n",
      " [  0.           0.           0.         ...   0.           0.\n",
      "    0.        ]] adu\n"
     ]
    }
   ],
   "source": [
    "#We read in our first and second half of the master science V images\n",
    "\n",
    "V1 = astropy.nddata.CCDData.read('C:/Users/Andres/Desktop/NACHO/UNI/Year 3/Globular Clusters Project/MasterScienceV1.fits', unit='adu')\n",
    "V2 = astropy.nddata.CCDData.read('C:/Users/Andres/Desktop/NACHO/UNI/Year 3/Globular Clusters Project/MasterScienceV2.fits', unit='adu')\n",
    "print(V1, V2)"
   ]
  },
  {
   "cell_type": "code",
   "execution_count": 5,
   "id": "2cd540fc",
   "metadata": {},
   "outputs": [],
   "source": [
    "#Then we combine both halfs to create a singular master science v image\n",
    "ScienceV = ccdproc.combine((V1,V2), method = 'median', format = 'fits')\n",
    "hdu1 = CCDData.to_hdu(ScienceV)\n",
    "hdu1.writeto('MasterScienceV.fits', overwrite = True)"
   ]
  },
  {
   "cell_type": "code",
   "execution_count": null,
   "id": "1f344757",
   "metadata": {},
   "outputs": [],
   "source": []
  }
 ],
 "metadata": {
  "kernelspec": {
   "display_name": "Python 3 (ipykernel)",
   "language": "python",
   "name": "python3"
  },
  "language_info": {
   "codemirror_mode": {
    "name": "ipython",
    "version": 3
   },
   "file_extension": ".py",
   "mimetype": "text/x-python",
   "name": "python",
   "nbconvert_exporter": "python",
   "pygments_lexer": "ipython3",
   "version": "3.8.12"
  }
 },
 "nbformat": 4,
 "nbformat_minor": 5
}
