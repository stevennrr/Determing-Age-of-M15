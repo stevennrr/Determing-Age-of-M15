{
 "cells": [
  {
   "cell_type": "code",
   "execution_count": 1,
   "id": "efacc787",
   "metadata": {},
   "outputs": [],
   "source": [
    "#Import relevant libraries\n",
    "import astropy\n",
    "import numpy as np\n",
    "import ccdproc\n",
    "import os\n",
    "import glob\n",
    "import matplotlib.pyplot as plt\n",
    "from astropy.nddata import CCDData\n",
    "import scipy"
   ]
  },
  {
   "cell_type": "code",
   "execution_count": 2,
   "id": "9aa1d1f3",
   "metadata": {},
   "outputs": [
    {
     "name": "stdout",
     "output_type": "stream",
     "text": [
      "INFO: using the unit adu passed to the FITS reader instead of the unit adu in the FITS file. [astropy.nddata.ccddata]\n",
      "INFO: using the unit adu passed to the FITS reader instead of the unit adu in the FITS file. [astropy.nddata.ccddata]\n",
      "[[198.59930192 234.81720813 236.32326763 ... 248.23428967 235.44115541\n",
      "    0.        ]\n",
      " [176.53959543 229.77816447 243.84478791 ... 239.02415329 244.72977791\n",
      "    0.        ]\n",
      " [162.1708234  238.09783851 221.55960684 ... 227.23344506 251.33736851\n",
      "    0.        ]\n",
      " ...\n",
      " [  0.         234.66922112 249.22476251 ... 226.71144874 203.6111857\n",
      "    0.        ]\n",
      " [  0.         234.60105984 240.79089333 ... 250.3948921  261.47679037\n",
      "    0.        ]\n",
      " [  0.           0.           0.         ...   0.           0.\n",
      "    0.        ]] adu [[  0.           0.           0.         ... 155.82365621 155.3906067\n",
      "  159.2390328 ]\n",
      " [  0.           0.           0.         ... 153.21463961 160.21312053\n",
      "  157.71479897]\n",
      " [  0.           0.           0.         ... 153.96454656 155.95186936\n",
      "  159.61883702]\n",
      " ...\n",
      " [  0.           0.           0.         ...   0.           0.\n",
      "    0.        ]\n",
      " [  0.           0.           0.         ...   0.           0.\n",
      "    0.        ]\n",
      " [  0.           0.           0.         ...   0.           0.\n",
      "    0.        ]] adu\n"
     ]
    }
   ],
   "source": [
    "#Here we read in our first and second half of the Master science B and combine them both together\n",
    "#The reason we had to split them up is because our computer power was not strong enough to reduce all the errors on the master sciences together\n",
    "\n",
    "B1 = astropy.nddata.CCDData.read('C:/Users/steve/OneDrive - University of Birmingham/LH Observatory Laboratory/Glob Cluter Final Code/GlobClusters/MasterScienceB1.fits', unit='adu')\n",
    "B2 = astropy.nddata.CCDData.read('C:/Users/steve/OneDrive - University of Birmingham/LH Observatory Laboratory/Glob Cluter Final Code/GlobClusters/MasterScienceB2.fits', unit='adu')\n",
    "print(B1, B2)"
   ]
  },
  {
   "cell_type": "code",
   "execution_count": 3,
   "id": "2cd540fc",
   "metadata": {},
   "outputs": [],
   "source": [
    "#We now name this newly combined science frame as our MasterscienceB\n",
    "ScienceB = ccdproc.combine((B1, B2), method = 'median', format = 'fits')\n",
    "hdu1 = CCDData.to_hdu(ScienceB)\n",
    "hdu1.writeto('MasterScienceB.fits', overwrite = True)"
   ]
  },
  {
   "cell_type": "code",
   "execution_count": null,
   "id": "1f344757",
   "metadata": {},
   "outputs": [],
   "source": []
  }
 ],
 "metadata": {
  "kernelspec": {
   "display_name": "Python 3 (ipykernel)",
   "language": "python",
   "name": "python3"
  },
  "language_info": {
   "codemirror_mode": {
    "name": "ipython",
    "version": 3
   },
   "file_extension": ".py",
   "mimetype": "text/x-python",
   "name": "python",
   "nbconvert_exporter": "python",
   "pygments_lexer": "ipython3",
   "version": "3.8.12"
  }
 },
 "nbformat": 4,
 "nbformat_minor": 5
}
